{
  "nbformat": 4,
  "nbformat_minor": 0,
  "metadata": {
    "colab": {
      "name": "CarPrice-Prediction.ipynb",
      "provenance": [],
      "mount_file_id": "1T5-vi9WHVbDtRQlpM_DvMg4vQ-Rr6Czy",
      "authorship_tag": "ABX9TyMfbk1J/JdePSqcd/4Q9DFR",
      "include_colab_link": true
    },
    "kernelspec": {
      "name": "python3",
      "display_name": "Python 3"
    }
  },
  "cells": [
    {
      "cell_type": "markdown",
      "metadata": {
        "id": "view-in-github",
        "colab_type": "text"
      },
      "source": [
        "<a href=\"https://colab.research.google.com/github/SBMagar/CarPrice-Prediction/blob/main/CarPrice_Prediction.ipynb\" target=\"_parent\"><img src=\"https://colab.research.google.com/assets/colab-badge.svg\" alt=\"Open In Colab\"/></a>"
      ]
    },
    {
      "cell_type": "markdown",
      "metadata": {
        "id": "O8dy6ISg5ndQ"
      },
      "source": [
        "## **Car price prediction with Linear Regression **"
      ]
    },
    {
      "cell_type": "markdown",
      "metadata": {
        "id": "gC088njU4wPb"
      },
      "source": [
        "I am going to make a model for Car price prediction using Linear Regression Model with all correlation values plus error values\n",
        "\n",
        "Due to some issues I have used this colab notebook and dataset from my drive linked with this notebook. \n",
        "\n",
        "I couldn't find the way to scrap hamrobazaar.com site for dataset so instead of this I have used foreign site to scrap and make my own dataset."
      ]
    },
    {
      "cell_type": "code",
      "metadata": {
        "id": "nHZw8-vE2eue"
      },
      "source": [
        "import numpy as np\n",
        "import json\n",
        "import requests\n",
        "\n",
        "import pandas as pd\n",
        "import matplotlib.pyplot as plt\n",
        "import seaborn as sns\n",
        "sns.set()"
      ],
      "execution_count": null,
      "outputs": []
    },
    {
      "cell_type": "code",
      "metadata": {
        "id": "hoBnyxBt2jll"
      },
      "source": [
        "data = pd.DataFrame(pd.read_csv(\"/content/drive/My Drive/Colab Notebooks/Automobile_data.csv\"))"
      ],
      "execution_count": null,
      "outputs": []
    },
    {
      "cell_type": "code",
      "metadata": {
        "id": "5dNVmMsd2sPj",
        "colab": {
          "base_uri": "https://localhost:8080/",
          "height": 309
        },
        "outputId": "d87c35d5-1533-4474-af1a-ff8f64451383"
      },
      "source": [
        "data.head()"
      ],
      "execution_count": null,
      "outputs": [
        {
          "output_type": "execute_result",
          "data": {
            "text/html": [
              "<div>\n",
              "<style scoped>\n",
              "    .dataframe tbody tr th:only-of-type {\n",
              "        vertical-align: middle;\n",
              "    }\n",
              "\n",
              "    .dataframe tbody tr th {\n",
              "        vertical-align: top;\n",
              "    }\n",
              "\n",
              "    .dataframe thead th {\n",
              "        text-align: right;\n",
              "    }\n",
              "</style>\n",
              "<table border=\"1\" class=\"dataframe\">\n",
              "  <thead>\n",
              "    <tr style=\"text-align: right;\">\n",
              "      <th></th>\n",
              "      <th>symboling</th>\n",
              "      <th>normalized-losses</th>\n",
              "      <th>make</th>\n",
              "      <th>fuel-type</th>\n",
              "      <th>aspiration</th>\n",
              "      <th>num-of-doors</th>\n",
              "      <th>body-style</th>\n",
              "      <th>drive-wheels</th>\n",
              "      <th>engine-location</th>\n",
              "      <th>wheel-base</th>\n",
              "      <th>length</th>\n",
              "      <th>width</th>\n",
              "      <th>height</th>\n",
              "      <th>curb-weight</th>\n",
              "      <th>engine-type</th>\n",
              "      <th>num-of-cylinders</th>\n",
              "      <th>engine-size</th>\n",
              "      <th>fuel-system</th>\n",
              "      <th>bore</th>\n",
              "      <th>stroke</th>\n",
              "      <th>compression-ratio</th>\n",
              "      <th>horsepower</th>\n",
              "      <th>peak-rpm</th>\n",
              "      <th>city-mpg</th>\n",
              "      <th>highway-mpg</th>\n",
              "      <th>price</th>\n",
              "    </tr>\n",
              "  </thead>\n",
              "  <tbody>\n",
              "    <tr>\n",
              "      <th>0</th>\n",
              "      <td>3</td>\n",
              "      <td>?</td>\n",
              "      <td>alfa-romero</td>\n",
              "      <td>gas</td>\n",
              "      <td>std</td>\n",
              "      <td>two</td>\n",
              "      <td>convertible</td>\n",
              "      <td>rwd</td>\n",
              "      <td>front</td>\n",
              "      <td>88.6</td>\n",
              "      <td>168.8</td>\n",
              "      <td>64.1</td>\n",
              "      <td>48.8</td>\n",
              "      <td>2548</td>\n",
              "      <td>dohc</td>\n",
              "      <td>four</td>\n",
              "      <td>130</td>\n",
              "      <td>mpfi</td>\n",
              "      <td>3.47</td>\n",
              "      <td>2.68</td>\n",
              "      <td>9.0</td>\n",
              "      <td>111</td>\n",
              "      <td>5000</td>\n",
              "      <td>21</td>\n",
              "      <td>27</td>\n",
              "      <td>13495</td>\n",
              "    </tr>\n",
              "    <tr>\n",
              "      <th>1</th>\n",
              "      <td>3</td>\n",
              "      <td>?</td>\n",
              "      <td>alfa-romero</td>\n",
              "      <td>gas</td>\n",
              "      <td>std</td>\n",
              "      <td>two</td>\n",
              "      <td>convertible</td>\n",
              "      <td>rwd</td>\n",
              "      <td>front</td>\n",
              "      <td>88.6</td>\n",
              "      <td>168.8</td>\n",
              "      <td>64.1</td>\n",
              "      <td>48.8</td>\n",
              "      <td>2548</td>\n",
              "      <td>dohc</td>\n",
              "      <td>four</td>\n",
              "      <td>130</td>\n",
              "      <td>mpfi</td>\n",
              "      <td>3.47</td>\n",
              "      <td>2.68</td>\n",
              "      <td>9.0</td>\n",
              "      <td>111</td>\n",
              "      <td>5000</td>\n",
              "      <td>21</td>\n",
              "      <td>27</td>\n",
              "      <td>16500</td>\n",
              "    </tr>\n",
              "    <tr>\n",
              "      <th>2</th>\n",
              "      <td>1</td>\n",
              "      <td>?</td>\n",
              "      <td>alfa-romero</td>\n",
              "      <td>gas</td>\n",
              "      <td>std</td>\n",
              "      <td>two</td>\n",
              "      <td>hatchback</td>\n",
              "      <td>rwd</td>\n",
              "      <td>front</td>\n",
              "      <td>94.5</td>\n",
              "      <td>171.2</td>\n",
              "      <td>65.5</td>\n",
              "      <td>52.4</td>\n",
              "      <td>2823</td>\n",
              "      <td>ohcv</td>\n",
              "      <td>six</td>\n",
              "      <td>152</td>\n",
              "      <td>mpfi</td>\n",
              "      <td>2.68</td>\n",
              "      <td>3.47</td>\n",
              "      <td>9.0</td>\n",
              "      <td>154</td>\n",
              "      <td>5000</td>\n",
              "      <td>19</td>\n",
              "      <td>26</td>\n",
              "      <td>16500</td>\n",
              "    </tr>\n",
              "    <tr>\n",
              "      <th>3</th>\n",
              "      <td>2</td>\n",
              "      <td>164</td>\n",
              "      <td>audi</td>\n",
              "      <td>gas</td>\n",
              "      <td>std</td>\n",
              "      <td>four</td>\n",
              "      <td>sedan</td>\n",
              "      <td>fwd</td>\n",
              "      <td>front</td>\n",
              "      <td>99.8</td>\n",
              "      <td>176.6</td>\n",
              "      <td>66.2</td>\n",
              "      <td>54.3</td>\n",
              "      <td>2337</td>\n",
              "      <td>ohc</td>\n",
              "      <td>four</td>\n",
              "      <td>109</td>\n",
              "      <td>mpfi</td>\n",
              "      <td>3.19</td>\n",
              "      <td>3.4</td>\n",
              "      <td>10.0</td>\n",
              "      <td>102</td>\n",
              "      <td>5500</td>\n",
              "      <td>24</td>\n",
              "      <td>30</td>\n",
              "      <td>13950</td>\n",
              "    </tr>\n",
              "    <tr>\n",
              "      <th>4</th>\n",
              "      <td>2</td>\n",
              "      <td>164</td>\n",
              "      <td>audi</td>\n",
              "      <td>gas</td>\n",
              "      <td>std</td>\n",
              "      <td>four</td>\n",
              "      <td>sedan</td>\n",
              "      <td>4wd</td>\n",
              "      <td>front</td>\n",
              "      <td>99.4</td>\n",
              "      <td>176.6</td>\n",
              "      <td>66.4</td>\n",
              "      <td>54.3</td>\n",
              "      <td>2824</td>\n",
              "      <td>ohc</td>\n",
              "      <td>five</td>\n",
              "      <td>136</td>\n",
              "      <td>mpfi</td>\n",
              "      <td>3.19</td>\n",
              "      <td>3.4</td>\n",
              "      <td>8.0</td>\n",
              "      <td>115</td>\n",
              "      <td>5500</td>\n",
              "      <td>18</td>\n",
              "      <td>22</td>\n",
              "      <td>17450</td>\n",
              "    </tr>\n",
              "  </tbody>\n",
              "</table>\n",
              "</div>"
            ],
            "text/plain": [
              "   symboling normalized-losses         make  ... city-mpg highway-mpg  price\n",
              "0          3                 ?  alfa-romero  ...       21          27  13495\n",
              "1          3                 ?  alfa-romero  ...       21          27  16500\n",
              "2          1                 ?  alfa-romero  ...       19          26  16500\n",
              "3          2               164         audi  ...       24          30  13950\n",
              "4          2               164         audi  ...       18          22  17450\n",
              "\n",
              "[5 rows x 26 columns]"
            ]
          },
          "metadata": {
            "tags": []
          },
          "execution_count": 5
        }
      ]
    },
    {
      "cell_type": "code",
      "metadata": {
        "id": "TdakylQk24yR",
        "colab": {
          "base_uri": "https://localhost:8080/"
        },
        "outputId": "fef88f31-b503-47d5-8fdd-44e134b716fb"
      },
      "source": [
        "list(data.columns)"
      ],
      "execution_count": null,
      "outputs": [
        {
          "output_type": "execute_result",
          "data": {
            "text/plain": [
              "['symboling',\n",
              " 'normalized-losses',\n",
              " 'make',\n",
              " 'fuel-type',\n",
              " 'aspiration',\n",
              " 'num-of-doors',\n",
              " 'body-style',\n",
              " 'drive-wheels',\n",
              " 'engine-location',\n",
              " 'wheel-base',\n",
              " 'length',\n",
              " 'width',\n",
              " 'height',\n",
              " 'curb-weight',\n",
              " 'engine-type',\n",
              " 'num-of-cylinders',\n",
              " 'engine-size',\n",
              " 'fuel-system',\n",
              " 'bore',\n",
              " 'stroke',\n",
              " 'compression-ratio',\n",
              " 'horsepower',\n",
              " 'peak-rpm',\n",
              " 'city-mpg',\n",
              " 'highway-mpg',\n",
              " 'price']"
            ]
          },
          "metadata": {
            "tags": []
          },
          "execution_count": 6
        }
      ]
    },
    {
      "cell_type": "code",
      "metadata": {
        "id": "QTMFRFtK29z7"
      },
      "source": [
        "data['horsepower'] = pd.to_numeric(data['horsepower'], errors='coerce')\n",
        "data['price'] = pd.to_numeric(data['price'], errors='coerce')\n"
      ],
      "execution_count": null,
      "outputs": []
    },
    {
      "cell_type": "code",
      "metadata": {
        "id": "1ed9q_d22_0B"
      },
      "source": [
        "data.dropna(subset=['horsepower', 'price'], inplace=True)"
      ],
      "execution_count": null,
      "outputs": []
    },
    {
      "cell_type": "markdown",
      "metadata": {
        "id": "ZzP3HG5x3H7C"
      },
      "source": [
        "Price of car correlated to Engine horsepower... and its strength...\n"
      ]
    },
    {
      "cell_type": "code",
      "metadata": {
        "id": "RYrvJ5Bf3Bxx"
      },
      "source": [
        "from scipy.stats import pearsonr"
      ],
      "execution_count": null,
      "outputs": []
    },
    {
      "cell_type": "code",
      "metadata": {
        "id": "KakxarsZ3MUy",
        "colab": {
          "base_uri": "https://localhost:8080/"
        },
        "outputId": "41125329-2d85-4f25-e442-edc90d7384ce"
      },
      "source": [
        "pearsonr(data['horsepower'], data['price'])"
      ],
      "execution_count": null,
      "outputs": [
        {
          "output_type": "execute_result",
          "data": {
            "text/plain": [
              "(0.8105330821322061, 1.189127827694731e-47)"
            ]
          },
          "metadata": {
            "tags": []
          },
          "execution_count": 10
        }
      ]
    },
    {
      "cell_type": "markdown",
      "metadata": {
        "id": "AJSiTCPD3SkQ"
      },
      "source": [
        "The correlation coefficient of 0.81 shows a strong positive \n",
        "correlation\n",
        "\n",
        "The p-value (probabilty of our data being uncorrelated): 1.189e-47 shows a low probability"
      ]
    },
    {
      "cell_type": "code",
      "metadata": {
        "id": "N6SCLI-_3Nze"
      },
      "source": [
        "from bokeh.io import output_notebook\n",
        "from bokeh.plotting import figure, show, ColumnDataSource\n"
      ],
      "execution_count": null,
      "outputs": []
    },
    {
      "cell_type": "code",
      "metadata": {
        "id": "zf3mKapS3go2"
      },
      "source": [
        "output_notebook()"
      ],
      "execution_count": null,
      "outputs": []
    },
    {
      "cell_type": "code",
      "metadata": {
        "id": "JXiirtfE3i2R",
        "colab": {
          "base_uri": "https://localhost:8080/",
          "height": 417
        },
        "outputId": "852c0acb-2ffb-471c-f30c-17fa36bc030d"
      },
      "source": [
        "source = ColumnDataSource(data=dict(\n",
        "    x=data['horsepower'],\n",
        "    y=data['price'],\n",
        "    make=data['make']\n",
        "))\n",
        "\n",
        "# add tooltips to show infos for each datapoint\n",
        "tooltips = [\n",
        "    ('make', '@make'),\n",
        "    ('horsepower', '$x'),\n",
        "    ('price', '$y{$0}')\n",
        "]\n",
        "\n",
        "# create figure\n",
        "p = figure(plot_width=600, plot_height=400, tooltips=tooltips)\n",
        "# add axis labels\n",
        "p.xaxis.axis_label = 'Horsepower'\n",
        "p.yaxis.axis_label = 'Price'\n",
        "\n",
        "# show datapoints as circles\n",
        "p.circle('x', 'y', source=source, size=8, color='blue', alpha=0.5)\n",
        "\n",
        "# show figure\n",
        "show(p)"
      ],
      "execution_count": null,
      "outputs": [
        {
          "output_type": "display_data",
          "data": {
            "application/javascript": [
              "\n",
              "(function(root) {\n",
              "  function now() {\n",
              "    return new Date();\n",
              "  }\n",
              "\n",
              "  var force = true;\n",
              "\n",
              "  if (typeof root._bokeh_onload_callbacks === \"undefined\" || force === true) {\n",
              "    root._bokeh_onload_callbacks = [];\n",
              "    root._bokeh_is_loading = undefined;\n",
              "  }\n",
              "\n",
              "  var JS_MIME_TYPE = 'application/javascript';\n",
              "  var HTML_MIME_TYPE = 'text/html';\n",
              "  var EXEC_MIME_TYPE = 'application/vnd.bokehjs_exec.v0+json';\n",
              "  var CLASS_NAME = 'output_bokeh rendered_html';\n",
              "\n",
              "  /**\n",
              "   * Render data to the DOM node\n",
              "   */\n",
              "  function render(props, node) {\n",
              "    var script = document.createElement(\"script\");\n",
              "    node.appendChild(script);\n",
              "  }\n",
              "\n",
              "  /**\n",
              "   * Handle when an output is cleared or removed\n",
              "   */\n",
              "  function handleClearOutput(event, handle) {\n",
              "    var cell = handle.cell;\n",
              "\n",
              "    var id = cell.output_area._bokeh_element_id;\n",
              "    var server_id = cell.output_area._bokeh_server_id;\n",
              "    // Clean up Bokeh references\n",
              "    if (id != null && id in Bokeh.index) {\n",
              "      Bokeh.index[id].model.document.clear();\n",
              "      delete Bokeh.index[id];\n",
              "    }\n",
              "\n",
              "    if (server_id !== undefined) {\n",
              "      // Clean up Bokeh references\n",
              "      var cmd = \"from bokeh.io.state import curstate; print(curstate().uuid_to_server['\" + server_id + \"'].get_sessions()[0].document.roots[0]._id)\";\n",
              "      cell.notebook.kernel.execute(cmd, {\n",
              "        iopub: {\n",
              "          output: function(msg) {\n",
              "            var id = msg.content.text.trim();\n",
              "            if (id in Bokeh.index) {\n",
              "              Bokeh.index[id].model.document.clear();\n",
              "              delete Bokeh.index[id];\n",
              "            }\n",
              "          }\n",
              "        }\n",
              "      });\n",
              "      // Destroy server and session\n",
              "      var cmd = \"import bokeh.io.notebook as ion; ion.destroy_server('\" + server_id + \"')\";\n",
              "      cell.notebook.kernel.execute(cmd);\n",
              "    }\n",
              "  }\n",
              "\n",
              "  /**\n",
              "   * Handle when a new output is added\n",
              "   */\n",
              "  function handleAddOutput(event, handle) {\n",
              "    var output_area = handle.output_area;\n",
              "    var output = handle.output;\n",
              "\n",
              "    // limit handleAddOutput to display_data with EXEC_MIME_TYPE content only\n",
              "    if ((output.output_type != \"display_data\") || (!output.data.hasOwnProperty(EXEC_MIME_TYPE))) {\n",
              "      return\n",
              "    }\n",
              "\n",
              "    var toinsert = output_area.element.find(\".\" + CLASS_NAME.split(' ')[0]);\n",
              "\n",
              "    if (output.metadata[EXEC_MIME_TYPE][\"id\"] !== undefined) {\n",
              "      toinsert[toinsert.length - 1].firstChild.textContent = output.data[JS_MIME_TYPE];\n",
              "      // store reference to embed id on output_area\n",
              "      output_area._bokeh_element_id = output.metadata[EXEC_MIME_TYPE][\"id\"];\n",
              "    }\n",
              "    if (output.metadata[EXEC_MIME_TYPE][\"server_id\"] !== undefined) {\n",
              "      var bk_div = document.createElement(\"div\");\n",
              "      bk_div.innerHTML = output.data[HTML_MIME_TYPE];\n",
              "      var script_attrs = bk_div.children[0].attributes;\n",
              "      for (var i = 0; i < script_attrs.length; i++) {\n",
              "        toinsert[toinsert.length - 1].firstChild.setAttribute(script_attrs[i].name, script_attrs[i].value);\n",
              "        toinsert[toinsert.length - 1].firstChild.textContent = bk_div.children[0].textContent\n",
              "      }\n",
              "      // store reference to server id on output_area\n",
              "      output_area._bokeh_server_id = output.metadata[EXEC_MIME_TYPE][\"server_id\"];\n",
              "    }\n",
              "  }\n",
              "\n",
              "  function register_renderer(events, OutputArea) {\n",
              "\n",
              "    function append_mime(data, metadata, element) {\n",
              "      // create a DOM node to render to\n",
              "      var toinsert = this.create_output_subarea(\n",
              "        metadata,\n",
              "        CLASS_NAME,\n",
              "        EXEC_MIME_TYPE\n",
              "      );\n",
              "      this.keyboard_manager.register_events(toinsert);\n",
              "      // Render to node\n",
              "      var props = {data: data, metadata: metadata[EXEC_MIME_TYPE]};\n",
              "      render(props, toinsert[toinsert.length - 1]);\n",
              "      element.append(toinsert);\n",
              "      return toinsert\n",
              "    }\n",
              "\n",
              "    /* Handle when an output is cleared or removed */\n",
              "    events.on('clear_output.CodeCell', handleClearOutput);\n",
              "    events.on('delete.Cell', handleClearOutput);\n",
              "\n",
              "    /* Handle when a new output is added */\n",
              "    events.on('output_added.OutputArea', handleAddOutput);\n",
              "\n",
              "    /**\n",
              "     * Register the mime type and append_mime function with output_area\n",
              "     */\n",
              "    OutputArea.prototype.register_mime_type(EXEC_MIME_TYPE, append_mime, {\n",
              "      /* Is output safe? */\n",
              "      safe: true,\n",
              "      /* Index of renderer in `output_area.display_order` */\n",
              "      index: 0\n",
              "    });\n",
              "  }\n",
              "\n",
              "  // register the mime type if in Jupyter Notebook environment and previously unregistered\n",
              "  if (root.Jupyter !== undefined) {\n",
              "    var events = require('base/js/events');\n",
              "    var OutputArea = require('notebook/js/outputarea').OutputArea;\n",
              "\n",
              "    if (OutputArea.prototype.mime_types().indexOf(EXEC_MIME_TYPE) == -1) {\n",
              "      register_renderer(events, OutputArea);\n",
              "    }\n",
              "  }\n",
              "\n",
              "  \n",
              "  if (typeof (root._bokeh_timeout) === \"undefined\" || force === true) {\n",
              "    root._bokeh_timeout = Date.now() + 5000;\n",
              "    root._bokeh_failed_load = false;\n",
              "  }\n",
              "\n",
              "  var NB_LOAD_WARNING = {'data': {'text/html':\n",
              "     \"<div style='background-color: #fdd'>\\n\"+\n",
              "     \"<p>\\n\"+\n",
              "     \"BokehJS does not appear to have successfully loaded. If loading BokehJS from CDN, this \\n\"+\n",
              "     \"may be due to a slow or bad network connection. Possible fixes:\\n\"+\n",
              "     \"</p>\\n\"+\n",
              "     \"<ul>\\n\"+\n",
              "     \"<li>re-rerun `output_notebook()` to attempt to load from CDN again, or</li>\\n\"+\n",
              "     \"<li>use INLINE resources instead, as so:</li>\\n\"+\n",
              "     \"</ul>\\n\"+\n",
              "     \"<code>\\n\"+\n",
              "     \"from bokeh.resources import INLINE\\n\"+\n",
              "     \"output_notebook(resources=INLINE)\\n\"+\n",
              "     \"</code>\\n\"+\n",
              "     \"</div>\"}};\n",
              "\n",
              "  function display_loaded() {\n",
              "    var el = document.getElementById(null);\n",
              "    if (el != null) {\n",
              "      el.textContent = \"BokehJS is loading...\";\n",
              "    }\n",
              "    if (root.Bokeh !== undefined) {\n",
              "      if (el != null) {\n",
              "        el.textContent = \"BokehJS \" + root.Bokeh.version + \" successfully loaded.\";\n",
              "      }\n",
              "    } else if (Date.now() < root._bokeh_timeout) {\n",
              "      setTimeout(display_loaded, 100)\n",
              "    }\n",
              "  }\n",
              "\n",
              "\n",
              "  function run_callbacks() {\n",
              "    try {\n",
              "      root._bokeh_onload_callbacks.forEach(function(callback) {\n",
              "        if (callback != null)\n",
              "          callback();\n",
              "      });\n",
              "    } finally {\n",
              "      delete root._bokeh_onload_callbacks\n",
              "    }\n",
              "    console.debug(\"Bokeh: all callbacks have finished\");\n",
              "  }\n",
              "\n",
              "  function load_libs(css_urls, js_urls, callback) {\n",
              "    if (css_urls == null) css_urls = [];\n",
              "    if (js_urls == null) js_urls = [];\n",
              "\n",
              "    root._bokeh_onload_callbacks.push(callback);\n",
              "    if (root._bokeh_is_loading > 0) {\n",
              "      console.debug(\"Bokeh: BokehJS is being loaded, scheduling callback at\", now());\n",
              "      return null;\n",
              "    }\n",
              "    if (js_urls == null || js_urls.length === 0) {\n",
              "      run_callbacks();\n",
              "      return null;\n",
              "    }\n",
              "    console.debug(\"Bokeh: BokehJS not loaded, scheduling load and callback at\", now());\n",
              "    root._bokeh_is_loading = css_urls.length + js_urls.length;\n",
              "\n",
              "    function on_load() {\n",
              "      root._bokeh_is_loading--;\n",
              "      if (root._bokeh_is_loading === 0) {\n",
              "        console.debug(\"Bokeh: all BokehJS libraries/stylesheets loaded\");\n",
              "        run_callbacks()\n",
              "      }\n",
              "    }\n",
              "\n",
              "    function on_error() {\n",
              "      console.error(\"failed to load \" + url);\n",
              "    }\n",
              "\n",
              "    for (var i = 0; i < css_urls.length; i++) {\n",
              "      var url = css_urls[i];\n",
              "      const element = document.createElement(\"link\");\n",
              "      element.onload = on_load;\n",
              "      element.onerror = on_error;\n",
              "      element.rel = \"stylesheet\";\n",
              "      element.type = \"text/css\";\n",
              "      element.href = url;\n",
              "      console.debug(\"Bokeh: injecting link tag for BokehJS stylesheet: \", url);\n",
              "      document.body.appendChild(element);\n",
              "    }\n",
              "\n",
              "    const hashes = {\"https://cdn.bokeh.org/bokeh/release/bokeh-2.1.1.min.js\": \"kLr4fYcqcSpbuI95brIH3vnnYCquzzSxHPU6XGQCIkQRGJwhg0StNbj1eegrHs12\", \"https://cdn.bokeh.org/bokeh/release/bokeh-widgets-2.1.1.min.js\": \"xIGPmVtaOm+z0BqfSOMn4lOR6ciex448GIKG4eE61LsAvmGj48XcMQZtKcE/UXZe\", \"https://cdn.bokeh.org/bokeh/release/bokeh-tables-2.1.1.min.js\": \"Dc9u1wF/0zApGIWoBbH77iWEHtdmkuYWG839Uzmv8y8yBLXebjO9ZnERsde5Ln/P\", \"https://cdn.bokeh.org/bokeh/release/bokeh-gl-2.1.1.min.js\": \"cT9JaBz7GiRXdENrJLZNSC6eMNF3nh3fa5fTF51Svp+ukxPdwcU5kGXGPBgDCa2j\"};\n",
              "\n",
              "    for (var i = 0; i < js_urls.length; i++) {\n",
              "      var url = js_urls[i];\n",
              "      var element = document.createElement('script');\n",
              "      element.onload = on_load;\n",
              "      element.onerror = on_error;\n",
              "      element.async = false;\n",
              "      element.src = url;\n",
              "      if (url in hashes) {\n",
              "        element.crossOrigin = \"anonymous\";\n",
              "        element.integrity = \"sha384-\" + hashes[url];\n",
              "      }\n",
              "      console.debug(\"Bokeh: injecting script tag for BokehJS library: \", url);\n",
              "      document.head.appendChild(element);\n",
              "    }\n",
              "  };\n",
              "\n",
              "  function inject_raw_css(css) {\n",
              "    const element = document.createElement(\"style\");\n",
              "    element.appendChild(document.createTextNode(css));\n",
              "    document.body.appendChild(element);\n",
              "  }\n",
              "\n",
              "  \n",
              "  var js_urls = [\"https://cdn.bokeh.org/bokeh/release/bokeh-2.1.1.min.js\", \"https://cdn.bokeh.org/bokeh/release/bokeh-widgets-2.1.1.min.js\", \"https://cdn.bokeh.org/bokeh/release/bokeh-tables-2.1.1.min.js\", \"https://cdn.bokeh.org/bokeh/release/bokeh-gl-2.1.1.min.js\"];\n",
              "  var css_urls = [];\n",
              "  \n",
              "\n",
              "  var inline_js = [\n",
              "    function(Bokeh) {\n",
              "      Bokeh.set_log_level(\"info\");\n",
              "    },\n",
              "    function(Bokeh) {\n",
              "    \n",
              "    \n",
              "    }\n",
              "  ];\n",
              "\n",
              "  function run_inline_js() {\n",
              "    \n",
              "    if (root.Bokeh !== undefined || force === true) {\n",
              "      \n",
              "    for (var i = 0; i < inline_js.length; i++) {\n",
              "      inline_js[i].call(root, root.Bokeh);\n",
              "    }\n",
              "    } else if (Date.now() < root._bokeh_timeout) {\n",
              "      setTimeout(run_inline_js, 100);\n",
              "    } else if (!root._bokeh_failed_load) {\n",
              "      console.log(\"Bokeh: BokehJS failed to load within specified timeout.\");\n",
              "      root._bokeh_failed_load = true;\n",
              "    } else if (force !== true) {\n",
              "      var cell = $(document.getElementById(null)).parents('.cell').data().cell;\n",
              "      cell.output_area.append_execute_result(NB_LOAD_WARNING)\n",
              "    }\n",
              "\n",
              "  }\n",
              "\n",
              "  if (root._bokeh_is_loading === 0) {\n",
              "    console.debug(\"Bokeh: BokehJS loaded, going straight to plotting\");\n",
              "    run_inline_js();\n",
              "  } else {\n",
              "    load_libs(css_urls, js_urls, function() {\n",
              "      console.debug(\"Bokeh: BokehJS plotting callback run at\", now());\n",
              "      run_inline_js();\n",
              "    });\n",
              "  }\n",
              "}(window));"
            ],
            "application/vnd.bokehjs_load.v0+json": "\n(function(root) {\n  function now() {\n    return new Date();\n  }\n\n  var force = true;\n\n  if (typeof root._bokeh_onload_callbacks === \"undefined\" || force === true) {\n    root._bokeh_onload_callbacks = [];\n    root._bokeh_is_loading = undefined;\n  }\n\n  \n\n  \n  if (typeof (root._bokeh_timeout) === \"undefined\" || force === true) {\n    root._bokeh_timeout = Date.now() + 5000;\n    root._bokeh_failed_load = false;\n  }\n\n  var NB_LOAD_WARNING = {'data': {'text/html':\n     \"<div style='background-color: #fdd'>\\n\"+\n     \"<p>\\n\"+\n     \"BokehJS does not appear to have successfully loaded. If loading BokehJS from CDN, this \\n\"+\n     \"may be due to a slow or bad network connection. Possible fixes:\\n\"+\n     \"</p>\\n\"+\n     \"<ul>\\n\"+\n     \"<li>re-rerun `output_notebook()` to attempt to load from CDN again, or</li>\\n\"+\n     \"<li>use INLINE resources instead, as so:</li>\\n\"+\n     \"</ul>\\n\"+\n     \"<code>\\n\"+\n     \"from bokeh.resources import INLINE\\n\"+\n     \"output_notebook(resources=INLINE)\\n\"+\n     \"</code>\\n\"+\n     \"</div>\"}};\n\n  function display_loaded() {\n    var el = document.getElementById(null);\n    if (el != null) {\n      el.textContent = \"BokehJS is loading...\";\n    }\n    if (root.Bokeh !== undefined) {\n      if (el != null) {\n        el.textContent = \"BokehJS \" + root.Bokeh.version + \" successfully loaded.\";\n      }\n    } else if (Date.now() < root._bokeh_timeout) {\n      setTimeout(display_loaded, 100)\n    }\n  }\n\n\n  function run_callbacks() {\n    try {\n      root._bokeh_onload_callbacks.forEach(function(callback) {\n        if (callback != null)\n          callback();\n      });\n    } finally {\n      delete root._bokeh_onload_callbacks\n    }\n    console.debug(\"Bokeh: all callbacks have finished\");\n  }\n\n  function load_libs(css_urls, js_urls, callback) {\n    if (css_urls == null) css_urls = [];\n    if (js_urls == null) js_urls = [];\n\n    root._bokeh_onload_callbacks.push(callback);\n    if (root._bokeh_is_loading > 0) {\n      console.debug(\"Bokeh: BokehJS is being loaded, scheduling callback at\", now());\n      return null;\n    }\n    if (js_urls == null || js_urls.length === 0) {\n      run_callbacks();\n      return null;\n    }\n    console.debug(\"Bokeh: BokehJS not loaded, scheduling load and callback at\", now());\n    root._bokeh_is_loading = css_urls.length + js_urls.length;\n\n    function on_load() {\n      root._bokeh_is_loading--;\n      if (root._bokeh_is_loading === 0) {\n        console.debug(\"Bokeh: all BokehJS libraries/stylesheets loaded\");\n        run_callbacks()\n      }\n    }\n\n    function on_error() {\n      console.error(\"failed to load \" + url);\n    }\n\n    for (var i = 0; i < css_urls.length; i++) {\n      var url = css_urls[i];\n      const element = document.createElement(\"link\");\n      element.onload = on_load;\n      element.onerror = on_error;\n      element.rel = \"stylesheet\";\n      element.type = \"text/css\";\n      element.href = url;\n      console.debug(\"Bokeh: injecting link tag for BokehJS stylesheet: \", url);\n      document.body.appendChild(element);\n    }\n\n    const hashes = {\"https://cdn.bokeh.org/bokeh/release/bokeh-2.1.1.min.js\": \"kLr4fYcqcSpbuI95brIH3vnnYCquzzSxHPU6XGQCIkQRGJwhg0StNbj1eegrHs12\", \"https://cdn.bokeh.org/bokeh/release/bokeh-widgets-2.1.1.min.js\": \"xIGPmVtaOm+z0BqfSOMn4lOR6ciex448GIKG4eE61LsAvmGj48XcMQZtKcE/UXZe\", \"https://cdn.bokeh.org/bokeh/release/bokeh-tables-2.1.1.min.js\": \"Dc9u1wF/0zApGIWoBbH77iWEHtdmkuYWG839Uzmv8y8yBLXebjO9ZnERsde5Ln/P\", \"https://cdn.bokeh.org/bokeh/release/bokeh-gl-2.1.1.min.js\": \"cT9JaBz7GiRXdENrJLZNSC6eMNF3nh3fa5fTF51Svp+ukxPdwcU5kGXGPBgDCa2j\"};\n\n    for (var i = 0; i < js_urls.length; i++) {\n      var url = js_urls[i];\n      var element = document.createElement('script');\n      element.onload = on_load;\n      element.onerror = on_error;\n      element.async = false;\n      element.src = url;\n      if (url in hashes) {\n        element.crossOrigin = \"anonymous\";\n        element.integrity = \"sha384-\" + hashes[url];\n      }\n      console.debug(\"Bokeh: injecting script tag for BokehJS library: \", url);\n      document.head.appendChild(element);\n    }\n  };\n\n  function inject_raw_css(css) {\n    const element = document.createElement(\"style\");\n    element.appendChild(document.createTextNode(css));\n    document.body.appendChild(element);\n  }\n\n  \n  var js_urls = [\"https://cdn.bokeh.org/bokeh/release/bokeh-2.1.1.min.js\", \"https://cdn.bokeh.org/bokeh/release/bokeh-widgets-2.1.1.min.js\", \"https://cdn.bokeh.org/bokeh/release/bokeh-tables-2.1.1.min.js\", \"https://cdn.bokeh.org/bokeh/release/bokeh-gl-2.1.1.min.js\"];\n  var css_urls = [];\n  \n\n  var inline_js = [\n    function(Bokeh) {\n      Bokeh.set_log_level(\"info\");\n    },\n    function(Bokeh) {\n    \n    \n    }\n  ];\n\n  function run_inline_js() {\n    \n    if (root.Bokeh !== undefined || force === true) {\n      \n    for (var i = 0; i < inline_js.length; i++) {\n      inline_js[i].call(root, root.Bokeh);\n    }\n    } else if (Date.now() < root._bokeh_timeout) {\n      setTimeout(run_inline_js, 100);\n    } else if (!root._bokeh_failed_load) {\n      console.log(\"Bokeh: BokehJS failed to load within specified timeout.\");\n      root._bokeh_failed_load = true;\n    } else if (force !== true) {\n      var cell = $(document.getElementById(null)).parents('.cell').data().cell;\n      cell.output_area.append_execute_result(NB_LOAD_WARNING)\n    }\n\n  }\n\n  if (root._bokeh_is_loading === 0) {\n    console.debug(\"Bokeh: BokehJS loaded, going straight to plotting\");\n    run_inline_js();\n  } else {\n    load_libs(css_urls, js_urls, function() {\n      console.debug(\"Bokeh: BokehJS plotting callback run at\", now());\n      run_inline_js();\n    });\n  }\n}(window));"
          },
          "metadata": {
            "tags": []
          }
        },
        {
          "output_type": "display_data",
          "data": {
            "text/html": [
              "\n",
              "\n",
              "\n",
              "\n",
              "\n",
              "\n",
              "  <div class=\"bk-root\" id=\"fbb4483e-706c-49b6-b80f-5d1d7b87a82c\" data-root-id=\"1207\"></div>\n"
            ]
          },
          "metadata": {
            "tags": []
          }
        },
        {
          "output_type": "display_data",
          "data": {
            "application/javascript": [
              "(function(root) {\n",
              "  function embed_document(root) {\n",
              "    \n",
              "  var docs_json = {\"5527cbd2-41a7-4efd-88a0-3843964da439\":{\"roots\":{\"references\":[{\"attributes\":{\"below\":[{\"id\":\"1216\"}],\"center\":[{\"id\":\"1219\"},{\"id\":\"1223\"}],\"left\":[{\"id\":\"1220\"}],\"plot_height\":400,\"renderers\":[{\"id\":\"1243\"}],\"title\":{\"id\":\"1255\"},\"toolbar\":{\"id\":\"1232\"},\"x_range\":{\"id\":\"1208\"},\"x_scale\":{\"id\":\"1212\"},\"y_range\":{\"id\":\"1210\"},\"y_scale\":{\"id\":\"1214\"}},\"id\":\"1207\",\"subtype\":\"Figure\",\"type\":\"Plot\"},{\"attributes\":{},\"id\":\"1214\",\"type\":\"LinearScale\"},{\"attributes\":{\"axis_label\":\"Horsepower\",\"formatter\":{\"id\":\"1258\"},\"ticker\":{\"id\":\"1217\"}},\"id\":\"1216\",\"type\":\"LinearAxis\"},{\"attributes\":{\"bottom_units\":\"screen\",\"fill_alpha\":0.5,\"fill_color\":\"lightgrey\",\"left_units\":\"screen\",\"level\":\"overlay\",\"line_alpha\":1.0,\"line_color\":\"black\",\"line_dash\":[4,4],\"line_width\":2,\"right_units\":\"screen\",\"top_units\":\"screen\"},\"id\":\"1230\",\"type\":\"BoxAnnotation\"},{\"attributes\":{},\"id\":\"1217\",\"type\":\"BasicTicker\"},{\"attributes\":{\"callback\":null,\"tooltips\":[[\"make\",\"@make\"],[\"horsepower\",\"$x\"],[\"price\",\"$y{$0}\"]]},\"id\":\"1231\",\"type\":\"HoverTool\"},{\"attributes\":{\"active_drag\":\"auto\",\"active_inspect\":\"auto\",\"active_multi\":null,\"active_scroll\":\"auto\",\"active_tap\":\"auto\",\"tools\":[{\"id\":\"1224\"},{\"id\":\"1225\"},{\"id\":\"1226\"},{\"id\":\"1227\"},{\"id\":\"1228\"},{\"id\":\"1229\"},{\"id\":\"1231\"}]},\"id\":\"1232\",\"type\":\"Toolbar\"},{\"attributes\":{\"axis\":{\"id\":\"1216\"},\"ticker\":null},\"id\":\"1219\",\"type\":\"Grid\"},{\"attributes\":{\"axis_label\":\"Price\",\"formatter\":{\"id\":\"1256\"},\"ticker\":{\"id\":\"1221\"}},\"id\":\"1220\",\"type\":\"LinearAxis\"},{\"attributes\":{},\"id\":\"1221\",\"type\":\"BasicTicker\"},{\"attributes\":{\"data_source\":{\"id\":\"1206\"},\"glyph\":{\"id\":\"1241\"},\"hover_glyph\":null,\"muted_glyph\":null,\"nonselection_glyph\":{\"id\":\"1242\"},\"selection_glyph\":null,\"view\":{\"id\":\"1244\"}},\"id\":\"1243\",\"type\":\"GlyphRenderer\"},{\"attributes\":{},\"id\":\"1262\",\"type\":\"UnionRenderers\"},{\"attributes\":{\"axis\":{\"id\":\"1220\"},\"dimension\":1,\"ticker\":null},\"id\":\"1223\",\"type\":\"Grid\"},{\"attributes\":{},\"id\":\"1261\",\"type\":\"Selection\"},{\"attributes\":{\"fill_alpha\":{\"value\":0.5},\"fill_color\":{\"value\":\"blue\"},\"line_alpha\":{\"value\":0.5},\"line_color\":{\"value\":\"blue\"},\"size\":{\"units\":\"screen\",\"value\":8},\"x\":{\"field\":\"x\"},\"y\":{\"field\":\"y\"}},\"id\":\"1241\",\"type\":\"Circle\"},{\"attributes\":{\"text\":\"\"},\"id\":\"1255\",\"type\":\"Title\"},{\"attributes\":{\"fill_alpha\":{\"value\":0.1},\"fill_color\":{\"value\":\"blue\"},\"line_alpha\":{\"value\":0.1},\"line_color\":{\"value\":\"blue\"},\"size\":{\"units\":\"screen\",\"value\":8},\"x\":{\"field\":\"x\"},\"y\":{\"field\":\"y\"}},\"id\":\"1242\",\"type\":\"Circle\"},{\"attributes\":{\"source\":{\"id\":\"1206\"}},\"id\":\"1244\",\"type\":\"CDSView\"},{\"attributes\":{},\"id\":\"1258\",\"type\":\"BasicTickFormatter\"},{\"attributes\":{},\"id\":\"1224\",\"type\":\"PanTool\"},{\"attributes\":{},\"id\":\"1256\",\"type\":\"BasicTickFormatter\"},{\"attributes\":{},\"id\":\"1225\",\"type\":\"WheelZoomTool\"},{\"attributes\":{\"overlay\":{\"id\":\"1230\"}},\"id\":\"1226\",\"type\":\"BoxZoomTool\"},{\"attributes\":{\"data\":{\"make\":[\"alfa-romero\",\"alfa-romero\",\"alfa-romero\",\"audi\",\"audi\",\"audi\",\"audi\",\"audi\",\"audi\",\"bmw\",\"bmw\",\"bmw\",\"bmw\",\"bmw\",\"bmw\",\"bmw\",\"bmw\",\"chevrolet\",\"chevrolet\",\"chevrolet\",\"dodge\",\"dodge\",\"dodge\",\"dodge\",\"dodge\",\"dodge\",\"dodge\",\"dodge\",\"dodge\",\"honda\",\"honda\",\"honda\",\"honda\",\"honda\",\"honda\",\"honda\",\"honda\",\"honda\",\"honda\",\"honda\",\"honda\",\"honda\",\"isuzu\",\"isuzu\",\"jaguar\",\"jaguar\",\"jaguar\",\"mazda\",\"mazda\",\"mazda\",\"mazda\",\"mazda\",\"mazda\",\"mazda\",\"mazda\",\"mazda\",\"mazda\",\"mazda\",\"mazda\",\"mazda\",\"mazda\",\"mazda\",\"mazda\",\"mazda\",\"mercedes-benz\",\"mercedes-benz\",\"mercedes-benz\",\"mercedes-benz\",\"mercedes-benz\",\"mercedes-benz\",\"mercedes-benz\",\"mercedes-benz\",\"mercury\",\"mitsubishi\",\"mitsubishi\",\"mitsubishi\",\"mitsubishi\",\"mitsubishi\",\"mitsubishi\",\"mitsubishi\",\"mitsubishi\",\"mitsubishi\",\"mitsubishi\",\"mitsubishi\",\"mitsubishi\",\"mitsubishi\",\"nissan\",\"nissan\",\"nissan\",\"nissan\",\"nissan\",\"nissan\",\"nissan\",\"nissan\",\"nissan\",\"nissan\",\"nissan\",\"nissan\",\"nissan\",\"nissan\",\"nissan\",\"nissan\",\"nissan\",\"nissan\",\"peugot\",\"peugot\",\"peugot\",\"peugot\",\"peugot\",\"peugot\",\"peugot\",\"peugot\",\"peugot\",\"peugot\",\"peugot\",\"plymouth\",\"plymouth\",\"plymouth\",\"plymouth\",\"plymouth\",\"plymouth\",\"plymouth\",\"porsche\",\"porsche\",\"porsche\",\"porsche\",\"saab\",\"saab\",\"saab\",\"saab\",\"saab\",\"saab\",\"subaru\",\"subaru\",\"subaru\",\"subaru\",\"subaru\",\"subaru\",\"subaru\",\"subaru\",\"subaru\",\"subaru\",\"subaru\",\"subaru\",\"toyota\",\"toyota\",\"toyota\",\"toyota\",\"toyota\",\"toyota\",\"toyota\",\"toyota\",\"toyota\",\"toyota\",\"toyota\",\"toyota\",\"toyota\",\"toyota\",\"toyota\",\"toyota\",\"toyota\",\"toyota\",\"toyota\",\"toyota\",\"toyota\",\"toyota\",\"toyota\",\"toyota\",\"toyota\",\"toyota\",\"toyota\",\"toyota\",\"toyota\",\"toyota\",\"toyota\",\"toyota\",\"volkswagen\",\"volkswagen\",\"volkswagen\",\"volkswagen\",\"volkswagen\",\"volkswagen\",\"volkswagen\",\"volkswagen\",\"volkswagen\",\"volkswagen\",\"volkswagen\",\"volkswagen\",\"volvo\",\"volvo\",\"volvo\",\"volvo\",\"volvo\",\"volvo\",\"volvo\",\"volvo\",\"volvo\",\"volvo\",\"volvo\"],\"x\":{\"__ndarray__\":\"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\",\"dtype\":\"float64\",\"order\":\"little\",\"shape\":[199]},\"y\":{\"__ndarray__\":\"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\",\"dtype\":\"float64\",\"order\":\"little\",\"shape\":[199]}},\"selected\":{\"id\":\"1261\"},\"selection_policy\":{\"id\":\"1262\"}},\"id\":\"1206\",\"type\":\"ColumnDataSource\"},{\"attributes\":{},\"id\":\"1227\",\"type\":\"SaveTool\"},{\"attributes\":{},\"id\":\"1228\",\"type\":\"ResetTool\"},{\"attributes\":{},\"id\":\"1229\",\"type\":\"HelpTool\"},{\"attributes\":{},\"id\":\"1208\",\"type\":\"DataRange1d\"},{\"attributes\":{},\"id\":\"1210\",\"type\":\"DataRange1d\"},{\"attributes\":{},\"id\":\"1212\",\"type\":\"LinearScale\"}],\"root_ids\":[\"1207\"]},\"title\":\"Bokeh Application\",\"version\":\"2.1.1\"}};\n",
              "  var render_items = [{\"docid\":\"5527cbd2-41a7-4efd-88a0-3843964da439\",\"root_ids\":[\"1207\"],\"roots\":{\"1207\":\"fbb4483e-706c-49b6-b80f-5d1d7b87a82c\"}}];\n",
              "  root.Bokeh.embed.embed_items_notebook(docs_json, render_items);\n",
              "\n",
              "  }\n",
              "  if (root.Bokeh !== undefined) {\n",
              "    embed_document(root);\n",
              "  } else {\n",
              "    var attempts = 0;\n",
              "    var timer = setInterval(function(root) {\n",
              "      if (root.Bokeh !== undefined) {\n",
              "        clearInterval(timer);\n",
              "        embed_document(root);\n",
              "      } else {\n",
              "        attempts++;\n",
              "        if (attempts > 100) {\n",
              "          clearInterval(timer);\n",
              "          console.log(\"Bokeh: ERROR: Unable to run BokehJS code because BokehJS library is missing\");\n",
              "        }\n",
              "      }\n",
              "    }, 10, root)\n",
              "  }\n",
              "})(window);"
            ],
            "application/vnd.bokehjs_exec.v0+json": ""
          },
          "metadata": {
            "tags": [],
            "application/vnd.bokehjs_exec.v0+json": {
              "id": "1207"
            }
          }
        }
      ]
    },
    {
      "cell_type": "code",
      "metadata": {
        "id": "u9vVmL5e3r3w"
      },
      "source": [
        "from sklearn.model_selection import train_test_split\n",
        "train, test = train_test_split(data, test_size=0.25)"
      ],
      "execution_count": null,
      "outputs": []
    },
    {
      "cell_type": "code",
      "metadata": {
        "id": "3Q70PGyh3yrn",
        "colab": {
          "base_uri": "https://localhost:8080/"
        },
        "outputId": "503fc555-08e6-414e-cd1c-28f83be7ad29"
      },
      "source": [
        "from sklearn import linear_model\n",
        "model = linear_model.LinearRegression()\n",
        "\n",
        "# reshape first array to 2D for .fit() method\n",
        "training_x = np.array(train['horsepower']).reshape(-1, 1)\n",
        "training_y = np.array(train['price'])\n",
        "\n",
        "# perform linear fit/regression\n",
        "model.fit(training_x, training_y)\n",
        "\n",
        "# turn coefficient array which contains only one number into a number\n",
        "slope = np.asscalar(np.squeeze(model.coef_))\n",
        "intercept = model.intercept_\n",
        "print('slope: ', slope, 'intercept: ', intercept)"
      ],
      "execution_count": null,
      "outputs": [
        {
          "output_type": "stream",
          "text": [
            "slope:  170.33691526683205 intercept:  -4312.059347451552\n"
          ],
          "name": "stdout"
        },
        {
          "output_type": "stream",
          "text": [
            "/usr/local/lib/python3.6/dist-packages/ipykernel_launcher.py:12: DeprecationWarning: np.asscalar(a) is deprecated since NumPy v1.16, use a.item() instead\n",
            "  if sys.path[0] == '':\n"
          ],
          "name": "stderr"
        }
      ]
    },
    {
      "cell_type": "code",
      "metadata": {
        "id": "hqhgtFFe38yL",
        "colab": {
          "base_uri": "https://localhost:8080/",
          "height": 417
        },
        "outputId": "3d55fe16-0285-4f33-e97b-ba2bbc8a73eb"
      },
      "source": [
        "from bokeh.models import Slope\n",
        "\n",
        "best_fit = Slope(gradient=slope, y_intercept=intercept, line_color='red', line_width=3)\n",
        "p.add_layout(best_fit)\n",
        "show(p)"
      ],
      "execution_count": null,
      "outputs": [
        {
          "output_type": "display_data",
          "data": {
            "application/javascript": [
              "\n",
              "(function(root) {\n",
              "  function now() {\n",
              "    return new Date();\n",
              "  }\n",
              "\n",
              "  var force = true;\n",
              "\n",
              "  if (typeof root._bokeh_onload_callbacks === \"undefined\" || force === true) {\n",
              "    root._bokeh_onload_callbacks = [];\n",
              "    root._bokeh_is_loading = undefined;\n",
              "  }\n",
              "\n",
              "  var JS_MIME_TYPE = 'application/javascript';\n",
              "  var HTML_MIME_TYPE = 'text/html';\n",
              "  var EXEC_MIME_TYPE = 'application/vnd.bokehjs_exec.v0+json';\n",
              "  var CLASS_NAME = 'output_bokeh rendered_html';\n",
              "\n",
              "  /**\n",
              "   * Render data to the DOM node\n",
              "   */\n",
              "  function render(props, node) {\n",
              "    var script = document.createElement(\"script\");\n",
              "    node.appendChild(script);\n",
              "  }\n",
              "\n",
              "  /**\n",
              "   * Handle when an output is cleared or removed\n",
              "   */\n",
              "  function handleClearOutput(event, handle) {\n",
              "    var cell = handle.cell;\n",
              "\n",
              "    var id = cell.output_area._bokeh_element_id;\n",
              "    var server_id = cell.output_area._bokeh_server_id;\n",
              "    // Clean up Bokeh references\n",
              "    if (id != null && id in Bokeh.index) {\n",
              "      Bokeh.index[id].model.document.clear();\n",
              "      delete Bokeh.index[id];\n",
              "    }\n",
              "\n",
              "    if (server_id !== undefined) {\n",
              "      // Clean up Bokeh references\n",
              "      var cmd = \"from bokeh.io.state import curstate; print(curstate().uuid_to_server['\" + server_id + \"'].get_sessions()[0].document.roots[0]._id)\";\n",
              "      cell.notebook.kernel.execute(cmd, {\n",
              "        iopub: {\n",
              "          output: function(msg) {\n",
              "            var id = msg.content.text.trim();\n",
              "            if (id in Bokeh.index) {\n",
              "              Bokeh.index[id].model.document.clear();\n",
              "              delete Bokeh.index[id];\n",
              "            }\n",
              "          }\n",
              "        }\n",
              "      });\n",
              "      // Destroy server and session\n",
              "      var cmd = \"import bokeh.io.notebook as ion; ion.destroy_server('\" + server_id + \"')\";\n",
              "      cell.notebook.kernel.execute(cmd);\n",
              "    }\n",
              "  }\n",
              "\n",
              "  /**\n",
              "   * Handle when a new output is added\n",
              "   */\n",
              "  function handleAddOutput(event, handle) {\n",
              "    var output_area = handle.output_area;\n",
              "    var output = handle.output;\n",
              "\n",
              "    // limit handleAddOutput to display_data with EXEC_MIME_TYPE content only\n",
              "    if ((output.output_type != \"display_data\") || (!output.data.hasOwnProperty(EXEC_MIME_TYPE))) {\n",
              "      return\n",
              "    }\n",
              "\n",
              "    var toinsert = output_area.element.find(\".\" + CLASS_NAME.split(' ')[0]);\n",
              "\n",
              "    if (output.metadata[EXEC_MIME_TYPE][\"id\"] !== undefined) {\n",
              "      toinsert[toinsert.length - 1].firstChild.textContent = output.data[JS_MIME_TYPE];\n",
              "      // store reference to embed id on output_area\n",
              "      output_area._bokeh_element_id = output.metadata[EXEC_MIME_TYPE][\"id\"];\n",
              "    }\n",
              "    if (output.metadata[EXEC_MIME_TYPE][\"server_id\"] !== undefined) {\n",
              "      var bk_div = document.createElement(\"div\");\n",
              "      bk_div.innerHTML = output.data[HTML_MIME_TYPE];\n",
              "      var script_attrs = bk_div.children[0].attributes;\n",
              "      for (var i = 0; i < script_attrs.length; i++) {\n",
              "        toinsert[toinsert.length - 1].firstChild.setAttribute(script_attrs[i].name, script_attrs[i].value);\n",
              "        toinsert[toinsert.length - 1].firstChild.textContent = bk_div.children[0].textContent\n",
              "      }\n",
              "      // store reference to server id on output_area\n",
              "      output_area._bokeh_server_id = output.metadata[EXEC_MIME_TYPE][\"server_id\"];\n",
              "    }\n",
              "  }\n",
              "\n",
              "  function register_renderer(events, OutputArea) {\n",
              "\n",
              "    function append_mime(data, metadata, element) {\n",
              "      // create a DOM node to render to\n",
              "      var toinsert = this.create_output_subarea(\n",
              "        metadata,\n",
              "        CLASS_NAME,\n",
              "        EXEC_MIME_TYPE\n",
              "      );\n",
              "      this.keyboard_manager.register_events(toinsert);\n",
              "      // Render to node\n",
              "      var props = {data: data, metadata: metadata[EXEC_MIME_TYPE]};\n",
              "      render(props, toinsert[toinsert.length - 1]);\n",
              "      element.append(toinsert);\n",
              "      return toinsert\n",
              "    }\n",
              "\n",
              "    /* Handle when an output is cleared or removed */\n",
              "    events.on('clear_output.CodeCell', handleClearOutput);\n",
              "    events.on('delete.Cell', handleClearOutput);\n",
              "\n",
              "    /* Handle when a new output is added */\n",
              "    events.on('output_added.OutputArea', handleAddOutput);\n",
              "\n",
              "    /**\n",
              "     * Register the mime type and append_mime function with output_area\n",
              "     */\n",
              "    OutputArea.prototype.register_mime_type(EXEC_MIME_TYPE, append_mime, {\n",
              "      /* Is output safe? */\n",
              "      safe: true,\n",
              "      /* Index of renderer in `output_area.display_order` */\n",
              "      index: 0\n",
              "    });\n",
              "  }\n",
              "\n",
              "  // register the mime type if in Jupyter Notebook environment and previously unregistered\n",
              "  if (root.Jupyter !== undefined) {\n",
              "    var events = require('base/js/events');\n",
              "    var OutputArea = require('notebook/js/outputarea').OutputArea;\n",
              "\n",
              "    if (OutputArea.prototype.mime_types().indexOf(EXEC_MIME_TYPE) == -1) {\n",
              "      register_renderer(events, OutputArea);\n",
              "    }\n",
              "  }\n",
              "\n",
              "  \n",
              "  if (typeof (root._bokeh_timeout) === \"undefined\" || force === true) {\n",
              "    root._bokeh_timeout = Date.now() + 5000;\n",
              "    root._bokeh_failed_load = false;\n",
              "  }\n",
              "\n",
              "  var NB_LOAD_WARNING = {'data': {'text/html':\n",
              "     \"<div style='background-color: #fdd'>\\n\"+\n",
              "     \"<p>\\n\"+\n",
              "     \"BokehJS does not appear to have successfully loaded. If loading BokehJS from CDN, this \\n\"+\n",
              "     \"may be due to a slow or bad network connection. Possible fixes:\\n\"+\n",
              "     \"</p>\\n\"+\n",
              "     \"<ul>\\n\"+\n",
              "     \"<li>re-rerun `output_notebook()` to attempt to load from CDN again, or</li>\\n\"+\n",
              "     \"<li>use INLINE resources instead, as so:</li>\\n\"+\n",
              "     \"</ul>\\n\"+\n",
              "     \"<code>\\n\"+\n",
              "     \"from bokeh.resources import INLINE\\n\"+\n",
              "     \"output_notebook(resources=INLINE)\\n\"+\n",
              "     \"</code>\\n\"+\n",
              "     \"</div>\"}};\n",
              "\n",
              "  function display_loaded() {\n",
              "    var el = document.getElementById(null);\n",
              "    if (el != null) {\n",
              "      el.textContent = \"BokehJS is loading...\";\n",
              "    }\n",
              "    if (root.Bokeh !== undefined) {\n",
              "      if (el != null) {\n",
              "        el.textContent = \"BokehJS \" + root.Bokeh.version + \" successfully loaded.\";\n",
              "      }\n",
              "    } else if (Date.now() < root._bokeh_timeout) {\n",
              "      setTimeout(display_loaded, 100)\n",
              "    }\n",
              "  }\n",
              "\n",
              "\n",
              "  function run_callbacks() {\n",
              "    try {\n",
              "      root._bokeh_onload_callbacks.forEach(function(callback) {\n",
              "        if (callback != null)\n",
              "          callback();\n",
              "      });\n",
              "    } finally {\n",
              "      delete root._bokeh_onload_callbacks\n",
              "    }\n",
              "    console.debug(\"Bokeh: all callbacks have finished\");\n",
              "  }\n",
              "\n",
              "  function load_libs(css_urls, js_urls, callback) {\n",
              "    if (css_urls == null) css_urls = [];\n",
              "    if (js_urls == null) js_urls = [];\n",
              "\n",
              "    root._bokeh_onload_callbacks.push(callback);\n",
              "    if (root._bokeh_is_loading > 0) {\n",
              "      console.debug(\"Bokeh: BokehJS is being loaded, scheduling callback at\", now());\n",
              "      return null;\n",
              "    }\n",
              "    if (js_urls == null || js_urls.length === 0) {\n",
              "      run_callbacks();\n",
              "      return null;\n",
              "    }\n",
              "    console.debug(\"Bokeh: BokehJS not loaded, scheduling load and callback at\", now());\n",
              "    root._bokeh_is_loading = css_urls.length + js_urls.length;\n",
              "\n",
              "    function on_load() {\n",
              "      root._bokeh_is_loading--;\n",
              "      if (root._bokeh_is_loading === 0) {\n",
              "        console.debug(\"Bokeh: all BokehJS libraries/stylesheets loaded\");\n",
              "        run_callbacks()\n",
              "      }\n",
              "    }\n",
              "\n",
              "    function on_error() {\n",
              "      console.error(\"failed to load \" + url);\n",
              "    }\n",
              "\n",
              "    for (var i = 0; i < css_urls.length; i++) {\n",
              "      var url = css_urls[i];\n",
              "      const element = document.createElement(\"link\");\n",
              "      element.onload = on_load;\n",
              "      element.onerror = on_error;\n",
              "      element.rel = \"stylesheet\";\n",
              "      element.type = \"text/css\";\n",
              "      element.href = url;\n",
              "      console.debug(\"Bokeh: injecting link tag for BokehJS stylesheet: \", url);\n",
              "      document.body.appendChild(element);\n",
              "    }\n",
              "\n",
              "    const hashes = {\"https://cdn.bokeh.org/bokeh/release/bokeh-2.1.1.min.js\": \"kLr4fYcqcSpbuI95brIH3vnnYCquzzSxHPU6XGQCIkQRGJwhg0StNbj1eegrHs12\", \"https://cdn.bokeh.org/bokeh/release/bokeh-widgets-2.1.1.min.js\": \"xIGPmVtaOm+z0BqfSOMn4lOR6ciex448GIKG4eE61LsAvmGj48XcMQZtKcE/UXZe\", \"https://cdn.bokeh.org/bokeh/release/bokeh-tables-2.1.1.min.js\": \"Dc9u1wF/0zApGIWoBbH77iWEHtdmkuYWG839Uzmv8y8yBLXebjO9ZnERsde5Ln/P\", \"https://cdn.bokeh.org/bokeh/release/bokeh-gl-2.1.1.min.js\": \"cT9JaBz7GiRXdENrJLZNSC6eMNF3nh3fa5fTF51Svp+ukxPdwcU5kGXGPBgDCa2j\"};\n",
              "\n",
              "    for (var i = 0; i < js_urls.length; i++) {\n",
              "      var url = js_urls[i];\n",
              "      var element = document.createElement('script');\n",
              "      element.onload = on_load;\n",
              "      element.onerror = on_error;\n",
              "      element.async = false;\n",
              "      element.src = url;\n",
              "      if (url in hashes) {\n",
              "        element.crossOrigin = \"anonymous\";\n",
              "        element.integrity = \"sha384-\" + hashes[url];\n",
              "      }\n",
              "      console.debug(\"Bokeh: injecting script tag for BokehJS library: \", url);\n",
              "      document.head.appendChild(element);\n",
              "    }\n",
              "  };\n",
              "\n",
              "  function inject_raw_css(css) {\n",
              "    const element = document.createElement(\"style\");\n",
              "    element.appendChild(document.createTextNode(css));\n",
              "    document.body.appendChild(element);\n",
              "  }\n",
              "\n",
              "  \n",
              "  var js_urls = [\"https://cdn.bokeh.org/bokeh/release/bokeh-2.1.1.min.js\", \"https://cdn.bokeh.org/bokeh/release/bokeh-widgets-2.1.1.min.js\", \"https://cdn.bokeh.org/bokeh/release/bokeh-tables-2.1.1.min.js\", \"https://cdn.bokeh.org/bokeh/release/bokeh-gl-2.1.1.min.js\"];\n",
              "  var css_urls = [];\n",
              "  \n",
              "\n",
              "  var inline_js = [\n",
              "    function(Bokeh) {\n",
              "      Bokeh.set_log_level(\"info\");\n",
              "    },\n",
              "    function(Bokeh) {\n",
              "    \n",
              "    \n",
              "    }\n",
              "  ];\n",
              "\n",
              "  function run_inline_js() {\n",
              "    \n",
              "    if (root.Bokeh !== undefined || force === true) {\n",
              "      \n",
              "    for (var i = 0; i < inline_js.length; i++) {\n",
              "      inline_js[i].call(root, root.Bokeh);\n",
              "    }\n",
              "    } else if (Date.now() < root._bokeh_timeout) {\n",
              "      setTimeout(run_inline_js, 100);\n",
              "    } else if (!root._bokeh_failed_load) {\n",
              "      console.log(\"Bokeh: BokehJS failed to load within specified timeout.\");\n",
              "      root._bokeh_failed_load = true;\n",
              "    } else if (force !== true) {\n",
              "      var cell = $(document.getElementById(null)).parents('.cell').data().cell;\n",
              "      cell.output_area.append_execute_result(NB_LOAD_WARNING)\n",
              "    }\n",
              "\n",
              "  }\n",
              "\n",
              "  if (root._bokeh_is_loading === 0) {\n",
              "    console.debug(\"Bokeh: BokehJS loaded, going straight to plotting\");\n",
              "    run_inline_js();\n",
              "  } else {\n",
              "    load_libs(css_urls, js_urls, function() {\n",
              "      console.debug(\"Bokeh: BokehJS plotting callback run at\", now());\n",
              "      run_inline_js();\n",
              "    });\n",
              "  }\n",
              "}(window));"
            ],
            "application/vnd.bokehjs_load.v0+json": "\n(function(root) {\n  function now() {\n    return new Date();\n  }\n\n  var force = true;\n\n  if (typeof root._bokeh_onload_callbacks === \"undefined\" || force === true) {\n    root._bokeh_onload_callbacks = [];\n    root._bokeh_is_loading = undefined;\n  }\n\n  \n\n  \n  if (typeof (root._bokeh_timeout) === \"undefined\" || force === true) {\n    root._bokeh_timeout = Date.now() + 5000;\n    root._bokeh_failed_load = false;\n  }\n\n  var NB_LOAD_WARNING = {'data': {'text/html':\n     \"<div style='background-color: #fdd'>\\n\"+\n     \"<p>\\n\"+\n     \"BokehJS does not appear to have successfully loaded. If loading BokehJS from CDN, this \\n\"+\n     \"may be due to a slow or bad network connection. Possible fixes:\\n\"+\n     \"</p>\\n\"+\n     \"<ul>\\n\"+\n     \"<li>re-rerun `output_notebook()` to attempt to load from CDN again, or</li>\\n\"+\n     \"<li>use INLINE resources instead, as so:</li>\\n\"+\n     \"</ul>\\n\"+\n     \"<code>\\n\"+\n     \"from bokeh.resources import INLINE\\n\"+\n     \"output_notebook(resources=INLINE)\\n\"+\n     \"</code>\\n\"+\n     \"</div>\"}};\n\n  function display_loaded() {\n    var el = document.getElementById(null);\n    if (el != null) {\n      el.textContent = \"BokehJS is loading...\";\n    }\n    if (root.Bokeh !== undefined) {\n      if (el != null) {\n        el.textContent = \"BokehJS \" + root.Bokeh.version + \" successfully loaded.\";\n      }\n    } else if (Date.now() < root._bokeh_timeout) {\n      setTimeout(display_loaded, 100)\n    }\n  }\n\n\n  function run_callbacks() {\n    try {\n      root._bokeh_onload_callbacks.forEach(function(callback) {\n        if (callback != null)\n          callback();\n      });\n    } finally {\n      delete root._bokeh_onload_callbacks\n    }\n    console.debug(\"Bokeh: all callbacks have finished\");\n  }\n\n  function load_libs(css_urls, js_urls, callback) {\n    if (css_urls == null) css_urls = [];\n    if (js_urls == null) js_urls = [];\n\n    root._bokeh_onload_callbacks.push(callback);\n    if (root._bokeh_is_loading > 0) {\n      console.debug(\"Bokeh: BokehJS is being loaded, scheduling callback at\", now());\n      return null;\n    }\n    if (js_urls == null || js_urls.length === 0) {\n      run_callbacks();\n      return null;\n    }\n    console.debug(\"Bokeh: BokehJS not loaded, scheduling load and callback at\", now());\n    root._bokeh_is_loading = css_urls.length + js_urls.length;\n\n    function on_load() {\n      root._bokeh_is_loading--;\n      if (root._bokeh_is_loading === 0) {\n        console.debug(\"Bokeh: all BokehJS libraries/stylesheets loaded\");\n        run_callbacks()\n      }\n    }\n\n    function on_error() {\n      console.error(\"failed to load \" + url);\n    }\n\n    for (var i = 0; i < css_urls.length; i++) {\n      var url = css_urls[i];\n      const element = document.createElement(\"link\");\n      element.onload = on_load;\n      element.onerror = on_error;\n      element.rel = \"stylesheet\";\n      element.type = \"text/css\";\n      element.href = url;\n      console.debug(\"Bokeh: injecting link tag for BokehJS stylesheet: \", url);\n      document.body.appendChild(element);\n    }\n\n    const hashes = {\"https://cdn.bokeh.org/bokeh/release/bokeh-2.1.1.min.js\": \"kLr4fYcqcSpbuI95brIH3vnnYCquzzSxHPU6XGQCIkQRGJwhg0StNbj1eegrHs12\", \"https://cdn.bokeh.org/bokeh/release/bokeh-widgets-2.1.1.min.js\": \"xIGPmVtaOm+z0BqfSOMn4lOR6ciex448GIKG4eE61LsAvmGj48XcMQZtKcE/UXZe\", \"https://cdn.bokeh.org/bokeh/release/bokeh-tables-2.1.1.min.js\": \"Dc9u1wF/0zApGIWoBbH77iWEHtdmkuYWG839Uzmv8y8yBLXebjO9ZnERsde5Ln/P\", \"https://cdn.bokeh.org/bokeh/release/bokeh-gl-2.1.1.min.js\": \"cT9JaBz7GiRXdENrJLZNSC6eMNF3nh3fa5fTF51Svp+ukxPdwcU5kGXGPBgDCa2j\"};\n\n    for (var i = 0; i < js_urls.length; i++) {\n      var url = js_urls[i];\n      var element = document.createElement('script');\n      element.onload = on_load;\n      element.onerror = on_error;\n      element.async = false;\n      element.src = url;\n      if (url in hashes) {\n        element.crossOrigin = \"anonymous\";\n        element.integrity = \"sha384-\" + hashes[url];\n      }\n      console.debug(\"Bokeh: injecting script tag for BokehJS library: \", url);\n      document.head.appendChild(element);\n    }\n  };\n\n  function inject_raw_css(css) {\n    const element = document.createElement(\"style\");\n    element.appendChild(document.createTextNode(css));\n    document.body.appendChild(element);\n  }\n\n  \n  var js_urls = [\"https://cdn.bokeh.org/bokeh/release/bokeh-2.1.1.min.js\", \"https://cdn.bokeh.org/bokeh/release/bokeh-widgets-2.1.1.min.js\", \"https://cdn.bokeh.org/bokeh/release/bokeh-tables-2.1.1.min.js\", \"https://cdn.bokeh.org/bokeh/release/bokeh-gl-2.1.1.min.js\"];\n  var css_urls = [];\n  \n\n  var inline_js = [\n    function(Bokeh) {\n      Bokeh.set_log_level(\"info\");\n    },\n    function(Bokeh) {\n    \n    \n    }\n  ];\n\n  function run_inline_js() {\n    \n    if (root.Bokeh !== undefined || force === true) {\n      \n    for (var i = 0; i < inline_js.length; i++) {\n      inline_js[i].call(root, root.Bokeh);\n    }\n    } else if (Date.now() < root._bokeh_timeout) {\n      setTimeout(run_inline_js, 100);\n    } else if (!root._bokeh_failed_load) {\n      console.log(\"Bokeh: BokehJS failed to load within specified timeout.\");\n      root._bokeh_failed_load = true;\n    } else if (force !== true) {\n      var cell = $(document.getElementById(null)).parents('.cell').data().cell;\n      cell.output_area.append_execute_result(NB_LOAD_WARNING)\n    }\n\n  }\n\n  if (root._bokeh_is_loading === 0) {\n    console.debug(\"Bokeh: BokehJS loaded, going straight to plotting\");\n    run_inline_js();\n  } else {\n    load_libs(css_urls, js_urls, function() {\n      console.debug(\"Bokeh: BokehJS plotting callback run at\", now());\n      run_inline_js();\n    });\n  }\n}(window));"
          },
          "metadata": {
            "tags": []
          }
        },
        {
          "output_type": "display_data",
          "data": {
            "text/html": [
              "\n",
              "\n",
              "\n",
              "\n",
              "\n",
              "\n",
              "  <div class=\"bk-root\" id=\"7587df40-a3ee-4f25-ac6d-8fed523cf925\" data-root-id=\"1002\"></div>\n"
            ]
          },
          "metadata": {
            "tags": []
          }
        },
        {
          "output_type": "display_data",
          "data": {
            "application/javascript": [
              "(function(root) {\n",
              "  function embed_document(root) {\n",
              "    \n",
              "  var docs_json = {\"834a6c57-6615-4a7d-a921-5b36c4c480b9\":{\"roots\":{\"references\":[{\"attributes\":{\"below\":[{\"id\":\"1011\"}],\"center\":[{\"id\":\"1014\"},{\"id\":\"1018\"},{\"id\":\"1103\"}],\"left\":[{\"id\":\"1015\"}],\"plot_height\":400,\"renderers\":[{\"id\":\"1038\"}],\"title\":{\"id\":\"1041\"},\"toolbar\":{\"id\":\"1027\"},\"x_range\":{\"id\":\"1003\"},\"x_scale\":{\"id\":\"1007\"},\"y_range\":{\"id\":\"1005\"},\"y_scale\":{\"id\":\"1009\"}},\"id\":\"1002\",\"subtype\":\"Figure\",\"type\":\"Plot\"},{\"attributes\":{\"overlay\":{\"id\":\"1025\"}},\"id\":\"1021\",\"type\":\"BoxZoomTool\"},{\"attributes\":{\"data\":{\"make\":[\"alfa-romero\",\"alfa-romero\",\"alfa-romero\",\"audi\",\"audi\",\"audi\",\"audi\",\"audi\",\"audi\",\"bmw\",\"bmw\",\"bmw\",\"bmw\",\"bmw\",\"bmw\",\"bmw\",\"bmw\",\"chevrolet\",\"chevrolet\",\"chevrolet\",\"dodge\",\"dodge\",\"dodge\",\"dodge\",\"dodge\",\"dodge\",\"dodge\",\"dodge\",\"dodge\",\"honda\",\"honda\",\"honda\",\"honda\",\"honda\",\"honda\",\"honda\",\"honda\",\"honda\",\"honda\",\"honda\",\"honda\",\"honda\",\"isuzu\",\"isuzu\",\"jaguar\",\"jaguar\",\"jaguar\",\"mazda\",\"mazda\",\"mazda\",\"mazda\",\"mazda\",\"mazda\",\"mazda\",\"mazda\",\"mazda\",\"mazda\",\"mazda\",\"mazda\",\"mazda\",\"mazda\",\"mazda\",\"mazda\",\"mazda\",\"mercedes-benz\",\"mercedes-benz\",\"mercedes-benz\",\"mercedes-benz\",\"mercedes-benz\",\"mercedes-benz\",\"mercedes-benz\",\"mercedes-benz\",\"mercury\",\"mitsubishi\",\"mitsubishi\",\"mitsubishi\",\"mitsubishi\",\"mitsubishi\",\"mitsubishi\",\"mitsubishi\",\"mitsubishi\",\"mitsubishi\",\"mitsubishi\",\"mitsubishi\",\"mitsubishi\",\"mitsubishi\",\"nissan\",\"nissan\",\"nissan\",\"nissan\",\"nissan\",\"nissan\",\"nissan\",\"nissan\",\"nissan\",\"nissan\",\"nissan\",\"nissan\",\"nissan\",\"nissan\",\"nissan\",\"nissan\",\"nissan\",\"nissan\",\"peugot\",\"peugot\",\"peugot\",\"peugot\",\"peugot\",\"peugot\",\"peugot\",\"peugot\",\"peugot\",\"peugot\",\"peugot\",\"plymouth\",\"plymouth\",\"plymouth\",\"plymouth\",\"plymouth\",\"plymouth\",\"plymouth\",\"porsche\",\"porsche\",\"porsche\",\"porsche\",\"saab\",\"saab\",\"saab\",\"saab\",\"saab\",\"saab\",\"subaru\",\"subaru\",\"subaru\",\"subaru\",\"subaru\",\"subaru\",\"subaru\",\"subaru\",\"subaru\",\"subaru\",\"subaru\",\"subaru\",\"toyota\",\"toyota\",\"toyota\",\"toyota\",\"toyota\",\"toyota\",\"toyota\",\"toyota\",\"toyota\",\"toyota\",\"toyota\",\"toyota\",\"toyota\",\"toyota\",\"toyota\",\"toyota\",\"toyota\",\"toyota\",\"toyota\",\"toyota\",\"toyota\",\"toyota\",\"toyota\",\"toyota\",\"toyota\",\"toyota\",\"toyota\",\"toyota\",\"toyota\",\"toyota\",\"toyota\",\"toyota\",\"volkswagen\",\"volkswagen\",\"volkswagen\",\"volkswagen\",\"volkswagen\",\"volkswagen\",\"volkswagen\",\"volkswagen\",\"volkswagen\",\"volkswagen\",\"volkswagen\",\"volkswagen\",\"volvo\",\"volvo\",\"volvo\",\"volvo\",\"volvo\",\"volvo\",\"volvo\",\"volvo\",\"volvo\",\"volvo\",\"volvo\"],\"x\":{\"__ndarray__\":\"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\",\"dtype\":\"float64\",\"order\":\"little\",\"shape\":[199]},\"y\":{\"__ndarray__\":\"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\",\"dtype\":\"float64\",\"order\":\"little\",\"shape\":[199]}},\"selected\":{\"id\":\"1047\"},\"selection_policy\":{\"id\":\"1048\"}},\"id\":\"1001\",\"type\":\"ColumnDataSource\"},{\"attributes\":{},\"id\":\"1022\",\"type\":\"SaveTool\"},{\"attributes\":{},\"id\":\"1023\",\"type\":\"ResetTool\"},{\"attributes\":{},\"id\":\"1024\",\"type\":\"HelpTool\"},{\"attributes\":{},\"id\":\"1003\",\"type\":\"DataRange1d\"},{\"attributes\":{},\"id\":\"1005\",\"type\":\"DataRange1d\"},{\"attributes\":{},\"id\":\"1007\",\"type\":\"LinearScale\"},{\"attributes\":{},\"id\":\"1044\",\"type\":\"BasicTickFormatter\"},{\"attributes\":{},\"id\":\"1009\",\"type\":\"LinearScale\"},{\"attributes\":{\"axis_label\":\"Horsepower\",\"formatter\":{\"id\":\"1044\"},\"ticker\":{\"id\":\"1012\"}},\"id\":\"1011\",\"type\":\"LinearAxis\"},{\"attributes\":{\"text\":\"\"},\"id\":\"1041\",\"type\":\"Title\"},{\"attributes\":{\"gradient\":170.33691526683205,\"line_color\":\"red\",\"line_width\":3,\"y_intercept\":-4312.059347451552},\"id\":\"1103\",\"type\":\"Slope\"},{\"attributes\":{},\"id\":\"1012\",\"type\":\"BasicTicker\"},{\"attributes\":{\"axis\":{\"id\":\"1011\"},\"ticker\":null},\"id\":\"1014\",\"type\":\"Grid\"},{\"attributes\":{\"axis_label\":\"Price\",\"formatter\":{\"id\":\"1042\"},\"ticker\":{\"id\":\"1016\"}},\"id\":\"1015\",\"type\":\"LinearAxis\"},{\"attributes\":{},\"id\":\"1042\",\"type\":\"BasicTickFormatter\"},{\"attributes\":{},\"id\":\"1047\",\"type\":\"Selection\"},{\"attributes\":{},\"id\":\"1016\",\"type\":\"BasicTicker\"},{\"attributes\":{\"bottom_units\":\"screen\",\"fill_alpha\":0.5,\"fill_color\":\"lightgrey\",\"left_units\":\"screen\",\"level\":\"overlay\",\"line_alpha\":1.0,\"line_color\":\"black\",\"line_dash\":[4,4],\"line_width\":2,\"right_units\":\"screen\",\"top_units\":\"screen\"},\"id\":\"1025\",\"type\":\"BoxAnnotation\"},{\"attributes\":{\"axis\":{\"id\":\"1015\"},\"dimension\":1,\"ticker\":null},\"id\":\"1018\",\"type\":\"Grid\"},{\"attributes\":{\"callback\":null,\"tooltips\":[[\"make\",\"@make\"],[\"horsepower\",\"$x\"],[\"price\",\"$y{$0}\"]]},\"id\":\"1026\",\"type\":\"HoverTool\"},{\"attributes\":{\"active_drag\":\"auto\",\"active_inspect\":\"auto\",\"active_multi\":null,\"active_scroll\":\"auto\",\"active_tap\":\"auto\",\"tools\":[{\"id\":\"1019\"},{\"id\":\"1020\"},{\"id\":\"1021\"},{\"id\":\"1022\"},{\"id\":\"1023\"},{\"id\":\"1024\"},{\"id\":\"1026\"}]},\"id\":\"1027\",\"type\":\"Toolbar\"},{\"attributes\":{\"data_source\":{\"id\":\"1001\"},\"glyph\":{\"id\":\"1036\"},\"hover_glyph\":null,\"muted_glyph\":null,\"nonselection_glyph\":{\"id\":\"1037\"},\"selection_glyph\":null,\"view\":{\"id\":\"1039\"}},\"id\":\"1038\",\"type\":\"GlyphRenderer\"},{\"attributes\":{\"fill_alpha\":{\"value\":0.5},\"fill_color\":{\"value\":\"blue\"},\"line_alpha\":{\"value\":0.5},\"line_color\":{\"value\":\"blue\"},\"size\":{\"units\":\"screen\",\"value\":8},\"x\":{\"field\":\"x\"},\"y\":{\"field\":\"y\"}},\"id\":\"1036\",\"type\":\"Circle\"},{\"attributes\":{\"fill_alpha\":{\"value\":0.1},\"fill_color\":{\"value\":\"blue\"},\"line_alpha\":{\"value\":0.1},\"line_color\":{\"value\":\"blue\"},\"size\":{\"units\":\"screen\",\"value\":8},\"x\":{\"field\":\"x\"},\"y\":{\"field\":\"y\"}},\"id\":\"1037\",\"type\":\"Circle\"},{\"attributes\":{},\"id\":\"1019\",\"type\":\"PanTool\"},{\"attributes\":{\"source\":{\"id\":\"1001\"}},\"id\":\"1039\",\"type\":\"CDSView\"},{\"attributes\":{},\"id\":\"1020\",\"type\":\"WheelZoomTool\"},{\"attributes\":{},\"id\":\"1048\",\"type\":\"UnionRenderers\"}],\"root_ids\":[\"1002\"]},\"title\":\"Bokeh Application\",\"version\":\"2.1.1\"}};\n",
              "  var render_items = [{\"docid\":\"834a6c57-6615-4a7d-a921-5b36c4c480b9\",\"root_ids\":[\"1002\"],\"roots\":{\"1002\":\"7587df40-a3ee-4f25-ac6d-8fed523cf925\"}}];\n",
              "  root.Bokeh.embed.embed_items_notebook(docs_json, render_items);\n",
              "\n",
              "  }\n",
              "  if (root.Bokeh !== undefined) {\n",
              "    embed_document(root);\n",
              "  } else {\n",
              "    var attempts = 0;\n",
              "    var timer = setInterval(function(root) {\n",
              "      if (root.Bokeh !== undefined) {\n",
              "        clearInterval(timer);\n",
              "        embed_document(root);\n",
              "      } else {\n",
              "        attempts++;\n",
              "        if (attempts > 100) {\n",
              "          clearInterval(timer);\n",
              "          console.log(\"Bokeh: ERROR: Unable to run BokehJS code because BokehJS library is missing\");\n",
              "        }\n",
              "      }\n",
              "    }, 10, root)\n",
              "  }\n",
              "})(window);"
            ],
            "application/vnd.bokehjs_exec.v0+json": ""
          },
          "metadata": {
            "tags": [],
            "application/vnd.bokehjs_exec.v0+json": {
              "id": "1002"
            }
          }
        }
      ]
    },
    {
      "cell_type": "code",
      "metadata": {
        "id": "x-R3S5YH3_LG",
        "colab": {
          "base_uri": "https://localhost:8080/"
        },
        "outputId": "d766580d-b706-4d1e-db1f-9f6cef50b7dc"
      },
      "source": [
        "from sklearn.metrics import mean_absolute_error, mean_squared_error, r2_score\n",
        "\n",
        "# define a function to generate a prediction and then compare the desired metrics\n",
        "def predict_metrics(lr, x, y):\n",
        "    pred = lr.predict(x)\n",
        "    mae = mean_absolute_error(y, pred)\n",
        "    mse = mean_squared_error(y, pred)\n",
        "    r2 = r2_score(y, pred)\n",
        "    return mae, mse, r2\n",
        "\n",
        "training_mae, training_mse, training_r2 = predict_metrics(model, training_x, training_y)\n",
        "\n",
        "# calculate with test data for comparison\n",
        "test_x = np.array(test['horsepower']).reshape(-1, 1)\n",
        "test_y = np.array(test['price'])\n",
        "test_mae, test_mse, test_r2 = predict_metrics(model, test_x, test_y)\n",
        "\n",
        "print('training mean error: ', training_mae, 'training mse: ', training_mse, 'training r2: ', training_r2)\n",
        "print('test mean error: ', test_mae, 'test mse: ', test_mse, 'test r2: ', test_r2)"
      ],
      "execution_count": null,
      "outputs": [
        {
          "output_type": "stream",
          "text": [
            "training mean error:  3355.2270850814903 training mse:  21982917.504038986 training r2:  0.6519027156060839\n",
            "test mean error:  3283.5968277238358 test mse:  21000181.79367529 test r2:  0.6711823149729438\n"
          ],
          "name": "stdout"
        }
      ]
    },
    {
      "cell_type": "markdown",
      "metadata": {
        "id": "xaNcyECm4Er1"
      },
      "source": [
        "Add some features :-)"
      ]
    },
    {
      "cell_type": "code",
      "metadata": {
        "id": "XcDE8KU64BhL",
        "colab": {
          "base_uri": "https://localhost:8080/"
        },
        "outputId": "d4b5febb-c1be-4ea6-87aa-6fe0205d663d"
      },
      "source": [
        "cols = ['horsepower', 'engine-size', 'peak-rpm', 'length', 'width', 'height']\n",
        "#preprocess the data\n",
        "for col in cols:\n",
        "    data[col] = pd.to_numeric(data[col], errors='coerce')\n",
        "\n",
        "data.dropna(subset=['price', 'horsepower'], inplace=True)\n",
        "\n",
        "for col in cols:\n",
        "    print(col, pearsonr(data[col], data['price']))"
      ],
      "execution_count": null,
      "outputs": [
        {
          "output_type": "stream",
          "text": [
            "horsepower (0.8105330821322061, 1.189127827694731e-47)\n",
            "engine-size (0.8738869517981516, 1.26506744790746e-63)\n",
            "peak-rpm (-0.10164886620219896, 0.15311824317200226)\n",
            "length (0.6939647745646869, 6.398310603050564e-30)\n",
            "width (0.7538710519013425, 8.679834788814272e-38)\n",
            "height (0.13499022754460988, 0.05730390719825646)\n"
          ],
          "name": "stdout"
        }
      ]
    },
    {
      "cell_type": "markdown",
      "metadata": {
        "id": "HVL2yh4z4QJw"
      },
      "source": [
        "drop peak-rpm & height from further analysis as they are weakly correlated"
      ]
    },
    {
      "cell_type": "code",
      "metadata": {
        "id": "vnZfFvxL4DYL"
      },
      "source": [
        "# split data into train & test set\n",
        "model_cols = ['horsepower', 'engine-size', 'length', 'width']\n",
        "multi_x = np.column_stack(tuple(data[col] for col in model_cols))\n",
        "multi_train_x, multi_test_x, multi_train_y, multi_test_y = train_test_split(multi_x, data['price'], test_size=0.25)"
      ],
      "execution_count": null,
      "outputs": []
    },
    {
      "cell_type": "code",
      "metadata": {
        "id": "MidSY9tz4LnO",
        "colab": {
          "base_uri": "https://localhost:8080/"
        },
        "outputId": "7e277865-9bcb-4f5a-b998-bd48fcb8979a"
      },
      "source": [
        "multi_model = linear_model.LinearRegression()\n",
        "multi_model.fit(multi_train_x, multi_train_y)\n",
        "multi_intercept = multi_model.intercept_\n",
        "multi_coeffs = dict(zip(model_cols, multi_model.coef_))\n",
        "print('intercept: ', multi_intercept)\n",
        "print('coefficients: ', multi_coeffs)"
      ],
      "execution_count": null,
      "outputs": [
        {
          "output_type": "stream",
          "text": [
            "intercept:  -50291.06037105317\n",
            "coefficients:  {'horsepower': 68.09746847117923, 'engine-size': 86.0130585057263, 'length': 16.369965963645534, 'width': 649.8368153196968}\n"
          ],
          "name": "stdout"
        }
      ]
    },
    {
      "cell_type": "code",
      "metadata": {
        "id": "Z6Y6sv_g4Td5",
        "colab": {
          "base_uri": "https://localhost:8080/"
        },
        "outputId": "a58849ae-07e9-481b-ab25-0c3a5207ec75"
      },
      "source": [
        "# calculate error metrics\n",
        "multi_train_mae, multi_train_mse, multi_train_r2 = predict_metrics(multi_model, multi_train_x, multi_train_y)\n",
        "multi_test_mae, multi_test_mse, multi_test_r2 = predict_metrics(multi_model, multi_test_x, multi_test_y)\n",
        "\n",
        "print('training mean error: ', multi_train_mae, 'training mse: ', multi_train_mse, 'training r2: ', multi_train_r2)\n",
        "print('test mean error: ', multi_test_mae, 'test mse: ', multi_test_mse, 'test r2: ', multi_test_r2)"
      ],
      "execution_count": null,
      "outputs": [
        {
          "output_type": "stream",
          "text": [
            "training mean error:  2476.491662951245 training mse:  12402524.004767772 training r2:  0.7986320778617969\n",
            "test mean error:  2359.2877045902715 test mse:  9826388.490419438 test r2:  0.8513719867771004\n"
          ],
          "name": "stdout"
        }
      ]
    },
    {
      "cell_type": "code",
      "metadata": {
        "id": "ycKbDbQp4Vg6"
      },
      "source": [
        ""
      ],
      "execution_count": null,
      "outputs": []
    }
  ]
}